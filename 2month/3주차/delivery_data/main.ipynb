{
 "cells": [
  {
   "cell_type": "code",
   "execution_count": 484,
   "metadata": {},
   "outputs": [],
   "source": [
    "import pandas as pd\n",
    "import numpy as np\n",
    "import matplotlib.pyplot as plt\n",
    "import seaborn as sns"
   ]
  },
  {
   "cell_type": "markdown",
   "metadata": {},
   "source": [
    "#### 데이터 로드와 열 형식 변환"
   ]
  },
  {
   "cell_type": "code",
   "execution_count": 433,
   "metadata": {},
   "outputs": [
    {
     "data": {
      "text/html": [
       "<div>\n",
       "<style scoped>\n",
       "    .dataframe tbody tr th:only-of-type {\n",
       "        vertical-align: middle;\n",
       "    }\n",
       "\n",
       "    .dataframe tbody tr th {\n",
       "        vertical-align: top;\n",
       "    }\n",
       "\n",
       "    .dataframe thead th {\n",
       "        text-align: right;\n",
       "    }\n",
       "</style>\n",
       "<table border=\"1\" class=\"dataframe\">\n",
       "  <thead>\n",
       "    <tr style=\"text-align: right;\">\n",
       "      <th></th>\n",
       "      <th>market_id</th>\n",
       "      <th>created_at</th>\n",
       "      <th>actual_delivery_time</th>\n",
       "      <th>store_id</th>\n",
       "      <th>store_primary_category</th>\n",
       "      <th>order_protocol</th>\n",
       "      <th>total_items</th>\n",
       "      <th>subtotal</th>\n",
       "      <th>num_distinct_items</th>\n",
       "      <th>min_item_price</th>\n",
       "      <th>max_item_price</th>\n",
       "      <th>total_onshift</th>\n",
       "      <th>total_busy</th>\n",
       "      <th>total_outstanding_orders</th>\n",
       "      <th>estimated_order_place_duration</th>\n",
       "      <th>estimated_store_to_consumer_driving_duration</th>\n",
       "    </tr>\n",
       "  </thead>\n",
       "  <tbody>\n",
       "    <tr>\n",
       "      <th>0</th>\n",
       "      <td>1.0</td>\n",
       "      <td>2015-02-06 22:24:17</td>\n",
       "      <td>2015-02-06 23:27:16</td>\n",
       "      <td>1845</td>\n",
       "      <td>american</td>\n",
       "      <td>1.0</td>\n",
       "      <td>4</td>\n",
       "      <td>3441</td>\n",
       "      <td>4</td>\n",
       "      <td>557</td>\n",
       "      <td>1239</td>\n",
       "      <td>33.0</td>\n",
       "      <td>14.0</td>\n",
       "      <td>21.0</td>\n",
       "      <td>446</td>\n",
       "      <td>861.0</td>\n",
       "    </tr>\n",
       "    <tr>\n",
       "      <th>1</th>\n",
       "      <td>2.0</td>\n",
       "      <td>2015-02-10 21:49:25</td>\n",
       "      <td>2015-02-10 22:56:29</td>\n",
       "      <td>5477</td>\n",
       "      <td>mexican</td>\n",
       "      <td>2.0</td>\n",
       "      <td>1</td>\n",
       "      <td>1900</td>\n",
       "      <td>1</td>\n",
       "      <td>1400</td>\n",
       "      <td>1400</td>\n",
       "      <td>1.0</td>\n",
       "      <td>2.0</td>\n",
       "      <td>2.0</td>\n",
       "      <td>446</td>\n",
       "      <td>690.0</td>\n",
       "    </tr>\n",
       "    <tr>\n",
       "      <th>2</th>\n",
       "      <td>3.0</td>\n",
       "      <td>2015-01-22 20:39:28</td>\n",
       "      <td>2015-01-22 21:09:09</td>\n",
       "      <td>5477</td>\n",
       "      <td>NaN</td>\n",
       "      <td>1.0</td>\n",
       "      <td>1</td>\n",
       "      <td>1900</td>\n",
       "      <td>1</td>\n",
       "      <td>1900</td>\n",
       "      <td>1900</td>\n",
       "      <td>1.0</td>\n",
       "      <td>0.0</td>\n",
       "      <td>0.0</td>\n",
       "      <td>446</td>\n",
       "      <td>690.0</td>\n",
       "    </tr>\n",
       "    <tr>\n",
       "      <th>3</th>\n",
       "      <td>3.0</td>\n",
       "      <td>2015-02-03 21:21:45</td>\n",
       "      <td>2015-02-03 22:13:00</td>\n",
       "      <td>5477</td>\n",
       "      <td>NaN</td>\n",
       "      <td>1.0</td>\n",
       "      <td>6</td>\n",
       "      <td>6900</td>\n",
       "      <td>5</td>\n",
       "      <td>600</td>\n",
       "      <td>1800</td>\n",
       "      <td>1.0</td>\n",
       "      <td>1.0</td>\n",
       "      <td>2.0</td>\n",
       "      <td>446</td>\n",
       "      <td>289.0</td>\n",
       "    </tr>\n",
       "    <tr>\n",
       "      <th>4</th>\n",
       "      <td>3.0</td>\n",
       "      <td>2015-02-15 02:40:36</td>\n",
       "      <td>2015-02-15 03:20:26</td>\n",
       "      <td>5477</td>\n",
       "      <td>NaN</td>\n",
       "      <td>1.0</td>\n",
       "      <td>3</td>\n",
       "      <td>3900</td>\n",
       "      <td>3</td>\n",
       "      <td>1100</td>\n",
       "      <td>1600</td>\n",
       "      <td>6.0</td>\n",
       "      <td>6.0</td>\n",
       "      <td>9.0</td>\n",
       "      <td>446</td>\n",
       "      <td>650.0</td>\n",
       "    </tr>\n",
       "  </tbody>\n",
       "</table>\n",
       "</div>"
      ],
      "text/plain": [
       "   market_id          created_at actual_delivery_time  store_id  \\\n",
       "0        1.0 2015-02-06 22:24:17  2015-02-06 23:27:16      1845   \n",
       "1        2.0 2015-02-10 21:49:25  2015-02-10 22:56:29      5477   \n",
       "2        3.0 2015-01-22 20:39:28  2015-01-22 21:09:09      5477   \n",
       "3        3.0 2015-02-03 21:21:45  2015-02-03 22:13:00      5477   \n",
       "4        3.0 2015-02-15 02:40:36  2015-02-15 03:20:26      5477   \n",
       "\n",
       "  store_primary_category  order_protocol  total_items  subtotal  \\\n",
       "0               american             1.0            4      3441   \n",
       "1                mexican             2.0            1      1900   \n",
       "2                    NaN             1.0            1      1900   \n",
       "3                    NaN             1.0            6      6900   \n",
       "4                    NaN             1.0            3      3900   \n",
       "\n",
       "   num_distinct_items  min_item_price  max_item_price  total_onshift  \\\n",
       "0                   4             557            1239           33.0   \n",
       "1                   1            1400            1400            1.0   \n",
       "2                   1            1900            1900            1.0   \n",
       "3                   5             600            1800            1.0   \n",
       "4                   3            1100            1600            6.0   \n",
       "\n",
       "   total_busy  total_outstanding_orders  estimated_order_place_duration  \\\n",
       "0        14.0                      21.0                             446   \n",
       "1         2.0                       2.0                             446   \n",
       "2         0.0                       0.0                             446   \n",
       "3         1.0                       2.0                             446   \n",
       "4         6.0                       9.0                             446   \n",
       "\n",
       "   estimated_store_to_consumer_driving_duration  \n",
       "0                                         861.0  \n",
       "1                                         690.0  \n",
       "2                                         690.0  \n",
       "3                                         289.0  \n",
       "4                                         650.0  "
      ]
     },
     "execution_count": 433,
     "metadata": {},
     "output_type": "execute_result"
    }
   ],
   "source": [
    "df = pd.read_csv('delivery_raw.csv', sep = '\\t')\n",
    "df['created_at'] = pd.to_datetime(df['created_at'])\n",
    "df['actual_delivery_time'] = pd.to_datetime(df['actual_delivery_time'])\n",
    "df.head()"
   ]
  },
  {
   "cell_type": "code",
   "execution_count": 434,
   "metadata": {},
   "outputs": [
    {
     "data": {
      "text/plain": [
       "market_id                                              float64\n",
       "created_at                                      datetime64[ns]\n",
       "actual_delivery_time                            datetime64[ns]\n",
       "store_id                                                 int64\n",
       "store_primary_category                                  object\n",
       "order_protocol                                         float64\n",
       "total_items                                              int64\n",
       "subtotal                                                 int64\n",
       "num_distinct_items                                       int64\n",
       "min_item_price                                           int64\n",
       "max_item_price                                           int64\n",
       "total_onshift                                          float64\n",
       "total_busy                                             float64\n",
       "total_outstanding_orders                               float64\n",
       "estimated_order_place_duration                           int64\n",
       "estimated_store_to_consumer_driving_duration           float64\n",
       "dtype: object"
      ]
     },
     "execution_count": 434,
     "metadata": {},
     "output_type": "execute_result"
    }
   ],
   "source": [
    "df.dtypes"
   ]
  },
  {
   "cell_type": "code",
   "execution_count": 435,
   "metadata": {},
   "outputs": [
    {
     "data": {
      "text/plain": [
       "market_id                                         987\n",
       "created_at                                          0\n",
       "actual_delivery_time                                7\n",
       "store_id                                            0\n",
       "store_primary_category                           4760\n",
       "order_protocol                                    995\n",
       "total_items                                         0\n",
       "subtotal                                            0\n",
       "num_distinct_items                                  0\n",
       "min_item_price                                      0\n",
       "max_item_price                                      0\n",
       "total_onshift                                   16262\n",
       "total_busy                                      16262\n",
       "total_outstanding_orders                        16262\n",
       "estimated_order_place_duration                      0\n",
       "estimated_store_to_consumer_driving_duration      526\n",
       "dtype: int64"
      ]
     },
     "execution_count": 435,
     "metadata": {},
     "output_type": "execute_result"
    }
   ],
   "source": [
    "df.isnull().sum()"
   ]
  },
  {
   "cell_type": "code",
   "execution_count": 436,
   "metadata": {},
   "outputs": [],
   "source": [
    "df.drop(['estimated_store_to_consumer_driving_duration', 'estimated_order_place_duration'], inplace=True, axis=1)\n",
    "df = df.dropna(subset=['market_id', 'actual_delivery_time', 'store_primary_category', 'total_onshift', 'order_protocol'])"
   ]
  },
  {
   "cell_type": "markdown",
   "metadata": {},
   "source": [
    "1. market_id, actual_delivery_time, stoer_primary_category, order_protocol  null인 행 삭제\n",
    "2. estimated_store_to_consumer_driving_duration 열 삭제"
   ]
  },
  {
   "cell_type": "markdown",
   "metadata": {},
   "source": [
    "#### target열 생성하고 데이터에 대한 이상치 처리"
   ]
  },
  {
   "cell_type": "code",
   "execution_count": 437,
   "metadata": {},
   "outputs": [],
   "source": [
    "df['total_time'] = (df['actual_delivery_time'] - df['created_at']).dt.total_seconds()"
   ]
  },
  {
   "cell_type": "code",
   "execution_count": 438,
   "metadata": {},
   "outputs": [
    {
     "data": {
      "text/html": [
       "<div>\n",
       "<style scoped>\n",
       "    .dataframe tbody tr th:only-of-type {\n",
       "        vertical-align: middle;\n",
       "    }\n",
       "\n",
       "    .dataframe tbody tr th {\n",
       "        vertical-align: top;\n",
       "    }\n",
       "\n",
       "    .dataframe thead th {\n",
       "        text-align: right;\n",
       "    }\n",
       "</style>\n",
       "<table border=\"1\" class=\"dataframe\">\n",
       "  <thead>\n",
       "    <tr style=\"text-align: right;\">\n",
       "      <th></th>\n",
       "      <th>market_id</th>\n",
       "      <th>store_id</th>\n",
       "      <th>order_protocol</th>\n",
       "      <th>total_items</th>\n",
       "      <th>subtotal</th>\n",
       "      <th>num_distinct_items</th>\n",
       "      <th>min_item_price</th>\n",
       "      <th>max_item_price</th>\n",
       "      <th>total_onshift</th>\n",
       "      <th>total_busy</th>\n",
       "      <th>total_outstanding_orders</th>\n",
       "      <th>total_time</th>\n",
       "    </tr>\n",
       "  </thead>\n",
       "  <tbody>\n",
       "    <tr>\n",
       "      <th>count</th>\n",
       "      <td>176248.000000</td>\n",
       "      <td>176248.000000</td>\n",
       "      <td>176248.000000</td>\n",
       "      <td>176248.000000</td>\n",
       "      <td>176248.000000</td>\n",
       "      <td>176248.000000</td>\n",
       "      <td>176248.000000</td>\n",
       "      <td>176248.000000</td>\n",
       "      <td>176248.000000</td>\n",
       "      <td>176248.000000</td>\n",
       "      <td>176248.000000</td>\n",
       "      <td>176248.000000</td>\n",
       "    </tr>\n",
       "    <tr>\n",
       "      <th>mean</th>\n",
       "      <td>2.743747</td>\n",
       "      <td>3556.618906</td>\n",
       "      <td>2.911687</td>\n",
       "      <td>3.204592</td>\n",
       "      <td>2696.498939</td>\n",
       "      <td>2.674589</td>\n",
       "      <td>684.937730</td>\n",
       "      <td>1159.886994</td>\n",
       "      <td>44.905276</td>\n",
       "      <td>41.845434</td>\n",
       "      <td>58.206800</td>\n",
       "      <td>2865.852600</td>\n",
       "    </tr>\n",
       "    <tr>\n",
       "      <th>std</th>\n",
       "      <td>1.330911</td>\n",
       "      <td>2055.987557</td>\n",
       "      <td>1.512920</td>\n",
       "      <td>2.673899</td>\n",
       "      <td>1828.922584</td>\n",
       "      <td>1.625558</td>\n",
       "      <td>519.911425</td>\n",
       "      <td>560.784510</td>\n",
       "      <td>34.529394</td>\n",
       "      <td>32.154573</td>\n",
       "      <td>52.708344</td>\n",
       "      <td>1659.291664</td>\n",
       "    </tr>\n",
       "    <tr>\n",
       "      <th>min</th>\n",
       "      <td>1.000000</td>\n",
       "      <td>1.000000</td>\n",
       "      <td>1.000000</td>\n",
       "      <td>1.000000</td>\n",
       "      <td>0.000000</td>\n",
       "      <td>1.000000</td>\n",
       "      <td>-86.000000</td>\n",
       "      <td>0.000000</td>\n",
       "      <td>-4.000000</td>\n",
       "      <td>-5.000000</td>\n",
       "      <td>-6.000000</td>\n",
       "      <td>101.000000</td>\n",
       "    </tr>\n",
       "    <tr>\n",
       "      <th>25%</th>\n",
       "      <td>2.000000</td>\n",
       "      <td>1703.000000</td>\n",
       "      <td>1.000000</td>\n",
       "      <td>2.000000</td>\n",
       "      <td>1408.000000</td>\n",
       "      <td>1.000000</td>\n",
       "      <td>299.000000</td>\n",
       "      <td>799.000000</td>\n",
       "      <td>17.000000</td>\n",
       "      <td>15.000000</td>\n",
       "      <td>17.000000</td>\n",
       "      <td>2105.000000</td>\n",
       "    </tr>\n",
       "    <tr>\n",
       "      <th>50%</th>\n",
       "      <td>2.000000</td>\n",
       "      <td>3620.000000</td>\n",
       "      <td>3.000000</td>\n",
       "      <td>3.000000</td>\n",
       "      <td>2221.000000</td>\n",
       "      <td>2.000000</td>\n",
       "      <td>595.000000</td>\n",
       "      <td>1095.000000</td>\n",
       "      <td>37.000000</td>\n",
       "      <td>35.000000</td>\n",
       "      <td>41.000000</td>\n",
       "      <td>2662.000000</td>\n",
       "    </tr>\n",
       "    <tr>\n",
       "      <th>75%</th>\n",
       "      <td>4.000000</td>\n",
       "      <td>5341.000000</td>\n",
       "      <td>4.000000</td>\n",
       "      <td>4.000000</td>\n",
       "      <td>3407.000000</td>\n",
       "      <td>3.000000</td>\n",
       "      <td>942.000000</td>\n",
       "      <td>1395.000000</td>\n",
       "      <td>65.000000</td>\n",
       "      <td>62.000000</td>\n",
       "      <td>85.000000</td>\n",
       "      <td>3382.000000</td>\n",
       "    </tr>\n",
       "    <tr>\n",
       "      <th>max</th>\n",
       "      <td>6.000000</td>\n",
       "      <td>6987.000000</td>\n",
       "      <td>7.000000</td>\n",
       "      <td>411.000000</td>\n",
       "      <td>26800.000000</td>\n",
       "      <td>20.000000</td>\n",
       "      <td>14700.000000</td>\n",
       "      <td>14700.000000</td>\n",
       "      <td>171.000000</td>\n",
       "      <td>154.000000</td>\n",
       "      <td>285.000000</td>\n",
       "      <td>373879.000000</td>\n",
       "    </tr>\n",
       "  </tbody>\n",
       "</table>\n",
       "</div>"
      ],
      "text/plain": [
       "           market_id       store_id  order_protocol    total_items  \\\n",
       "count  176248.000000  176248.000000   176248.000000  176248.000000   \n",
       "mean        2.743747    3556.618906        2.911687       3.204592   \n",
       "std         1.330911    2055.987557        1.512920       2.673899   \n",
       "min         1.000000       1.000000        1.000000       1.000000   \n",
       "25%         2.000000    1703.000000        1.000000       2.000000   \n",
       "50%         2.000000    3620.000000        3.000000       3.000000   \n",
       "75%         4.000000    5341.000000        4.000000       4.000000   \n",
       "max         6.000000    6987.000000        7.000000     411.000000   \n",
       "\n",
       "            subtotal  num_distinct_items  min_item_price  max_item_price  \\\n",
       "count  176248.000000       176248.000000   176248.000000   176248.000000   \n",
       "mean     2696.498939            2.674589      684.937730     1159.886994   \n",
       "std      1828.922584            1.625558      519.911425      560.784510   \n",
       "min         0.000000            1.000000      -86.000000        0.000000   \n",
       "25%      1408.000000            1.000000      299.000000      799.000000   \n",
       "50%      2221.000000            2.000000      595.000000     1095.000000   \n",
       "75%      3407.000000            3.000000      942.000000     1395.000000   \n",
       "max     26800.000000           20.000000    14700.000000    14700.000000   \n",
       "\n",
       "       total_onshift     total_busy  total_outstanding_orders     total_time  \n",
       "count  176248.000000  176248.000000             176248.000000  176248.000000  \n",
       "mean       44.905276      41.845434                 58.206800    2865.852600  \n",
       "std        34.529394      32.154573                 52.708344    1659.291664  \n",
       "min        -4.000000      -5.000000                 -6.000000     101.000000  \n",
       "25%        17.000000      15.000000                 17.000000    2105.000000  \n",
       "50%        37.000000      35.000000                 41.000000    2662.000000  \n",
       "75%        65.000000      62.000000                 85.000000    3382.000000  \n",
       "max       171.000000     154.000000                285.000000  373879.000000  "
      ]
     },
     "execution_count": 438,
     "metadata": {},
     "output_type": "execute_result"
    }
   ],
   "source": [
    "df.describe()"
   ]
  },
  {
   "cell_type": "markdown",
   "metadata": {},
   "source": [
    "배달 시간"
   ]
  },
  {
   "cell_type": "code",
   "execution_count": 439,
   "metadata": {},
   "outputs": [],
   "source": [
    "top_2_max = df['total_time'].nlargest(3).index\n",
    "df_drop = df[~df.index.isin(top_2_max)]"
   ]
  },
  {
   "cell_type": "code",
   "execution_count": 440,
   "metadata": {},
   "outputs": [
    {
     "data": {
      "image/png": "[encoded data removed]",
      "text/plain": [
       "<Figure size 640x480 with 1 Axes>"
      ]
     },
     "metadata": {},
     "output_type": "display_data"
    }
   ],
   "source": [
    "sns.boxplot(x=df_drop['total_time'], color='skyblue')\n",
    "plt.show()"
   ]
  },
  {
   "cell_type": "markdown",
   "metadata": {},
   "source": [
    "total_items"
   ]
  },
  {
   "cell_type": "code",
   "execution_count": 441,
   "metadata": {},
   "outputs": [
    {
     "data": {
      "text/plain": [
       "47231     411\n",
       "182800     66\n",
       "182796     64\n",
       "75577      59\n",
       "15053      57\n",
       "         ... \n",
       "21419       1\n",
       "42964       1\n",
       "166470      1\n",
       "166471      1\n",
       "163089      1\n",
       "Name: total_items, Length: 176245, dtype: int64"
      ]
     },
     "execution_count": 441,
     "metadata": {},
     "output_type": "execute_result"
    }
   ],
   "source": [
    "df_drop['total_items'].sort_values(ascending=False)"
   ]
  },
  {
   "cell_type": "code",
   "execution_count": 442,
   "metadata": {},
   "outputs": [],
   "source": [
    "top_1_max = df_drop['total_items'].nlargest(1).index\n",
    "df_drop = df_drop[~df_drop.index.isin(top_1_max)]"
   ]
  },
  {
   "cell_type": "markdown",
   "metadata": {},
   "source": [
    "min_item_price"
   ]
  },
  {
   "cell_type": "code",
   "execution_count": 443,
   "metadata": {},
   "outputs": [
    {
     "data": {
      "text/plain": [
       "790         -86\n",
       "187278      -52\n",
       "170424      -51\n",
       "46378       -48\n",
       "46369       -35\n",
       "          ...  \n",
       "84085      7999\n",
       "90756      8415\n",
       "195513     8959\n",
       "46914      8999\n",
       "139718    14700\n",
       "Name: min_item_price, Length: 176244, dtype: int64"
      ]
     },
     "execution_count": 443,
     "metadata": {},
     "output_type": "execute_result"
    }
   ],
   "source": [
    "df_drop['min_item_price'].sort_values()"
   ]
  },
  {
   "cell_type": "code",
   "execution_count": 444,
   "metadata": {},
   "outputs": [],
   "source": [
    "df_drop = df_drop[df_drop['min_item_price'] >  0]"
   ]
  },
  {
   "cell_type": "markdown",
   "metadata": {},
   "source": [
    "max_item_price"
   ]
  },
  {
   "cell_type": "code",
   "execution_count": 445,
   "metadata": {},
   "outputs": [
    {
     "data": {
      "text/plain": [
       "20226        60\n",
       "115162       75\n",
       "16956        85\n",
       "49276        95\n",
       "17559        95\n",
       "          ...  \n",
       "90756      8415\n",
       "16862      8500\n",
       "195513     8959\n",
       "46914      8999\n",
       "139718    14700\n",
       "Name: max_item_price, Length: 174054, dtype: int64"
      ]
     },
     "execution_count": 445,
     "metadata": {},
     "output_type": "execute_result"
    }
   ],
   "source": [
    "df_drop['max_item_price'].sort_values()"
   ]
  },
  {
   "cell_type": "markdown",
   "metadata": {},
   "source": [
    "total_onshift\t"
   ]
  },
  {
   "cell_type": "code",
   "execution_count": 446,
   "metadata": {},
   "outputs": [
    {
     "data": {
      "text/plain": [
       "179225     -4.0\n",
       "60282      -3.0\n",
       "127163     -2.0\n",
       "61131      -2.0\n",
       "175279     -2.0\n",
       "          ...  \n",
       "140992    164.0\n",
       "100018    165.0\n",
       "190274    168.0\n",
       "170897    169.0\n",
       "21545     171.0\n",
       "Name: total_onshift, Length: 174054, dtype: float64"
      ]
     },
     "execution_count": 446,
     "metadata": {},
     "output_type": "execute_result"
    }
   ],
   "source": [
    "df_drop['total_onshift'].sort_values()"
   ]
  },
  {
   "cell_type": "code",
   "execution_count": 447,
   "metadata": {},
   "outputs": [],
   "source": [
    "df_drop = df_drop[df_drop['total_onshift'] > 0]"
   ]
  },
  {
   "cell_type": "markdown",
   "metadata": {},
   "source": [
    "total_busy"
   ]
  },
  {
   "cell_type": "code",
   "execution_count": 448,
   "metadata": {},
   "outputs": [
    {
     "data": {
      "text/plain": [
       "120296     -5.0\n",
       "59764      -4.0\n",
       "126816     -3.0\n",
       "59370      -3.0\n",
       "191717     -2.0\n",
       "          ...  \n",
       "85602     150.0\n",
       "20270     150.0\n",
       "168689    152.0\n",
       "98033     152.0\n",
       "27815     154.0\n",
       "Name: total_busy, Length: 170531, dtype: float64"
      ]
     },
     "execution_count": 448,
     "metadata": {},
     "output_type": "execute_result"
    }
   ],
   "source": [
    "df_drop['total_busy'].sort_values()"
   ]
  },
  {
   "cell_type": "code",
   "execution_count": 449,
   "metadata": {},
   "outputs": [],
   "source": [
    "df_drop = df_drop[df_drop['total_busy'] > 0]"
   ]
  },
  {
   "cell_type": "markdown",
   "metadata": {},
   "source": [
    "total_outstanding_orders"
   ]
  },
  {
   "cell_type": "code",
   "execution_count": 450,
   "metadata": {},
   "outputs": [
    {
     "data": {
      "text/plain": [
       "36317      -6.0\n",
       "56554      -6.0\n",
       "85718      -6.0\n",
       "94795      -6.0\n",
       "177152     -5.0\n",
       "          ...  \n",
       "44205     278.0\n",
       "86385     278.0\n",
       "110226    278.0\n",
       "115743    283.0\n",
       "20724     285.0\n",
       "Name: total_outstanding_orders, Length: 169955, dtype: float64"
      ]
     },
     "execution_count": 450,
     "metadata": {},
     "output_type": "execute_result"
    }
   ],
   "source": [
    "df_drop['total_outstanding_orders'].sort_values()"
   ]
  },
  {
   "cell_type": "code",
   "execution_count": 451,
   "metadata": {},
   "outputs": [],
   "source": [
    "df_drop = df_drop[df_drop['total_outstanding_orders'] > 0]"
   ]
  },
  {
   "cell_type": "markdown",
   "metadata": {},
   "source": [
    "month, day, hour 열 추가"
   ]
  },
  {
   "cell_type": "code",
   "execution_count": 452,
   "metadata": {},
   "outputs": [],
   "source": [
    "df_drop['month'] = df_drop['created_at'].dt.month\n",
    "df_drop['hour'] = df_drop['created_at'].dt.hour\n",
    "df_drop['day'] = df_drop['created_at'].dt.day\n",
    "df_drop.drop(['created_at', 'actual_delivery_time'], inplace=True, axis=1)"
   ]
  },
  {
   "cell_type": "code",
   "execution_count": 453,
   "metadata": {},
   "outputs": [],
   "source": [
    "# 범주형 열 변환\n",
    "from sklearn.preprocessing import LabelEncoder\n",
    "\n",
    "le = LabelEncoder()\n",
    "df_drop['store_primary_category'] =  le.fit_transform(df_drop['store_primary_category'])"
   ]
  },
  {
   "cell_type": "code",
   "execution_count": 455,
   "metadata": {},
   "outputs": [
    {
     "data": {
      "text/plain": [
       "<Axes: >"
      ]
     },
     "execution_count": 455,
     "metadata": {},
     "output_type": "execute_result"
    },
    {
     "data": {
      "image/png": "[encoded data removed]",
      "text/plain": [
       "<Figure size 640x480 with 2 Axes>"
      ]
     },
     "metadata": {},
     "output_type": "display_data"
    }
   ],
   "source": [
    "# 각 열에 대한 상관관계 heatmap\n",
    "sns.heatmap(df_drop.corr())"
   ]
  },
  {
   "cell_type": "code",
   "execution_count": 456,
   "metadata": {},
   "outputs": [
    {
     "data": {
      "text/plain": [
       "(0.0, 10000.0)"
      ]
     },
     "execution_count": 456,
     "metadata": {},
     "output_type": "execute_result"
    },
    {
     "data": {
      "image/png": "[encoded data removed]",
      "text/plain": [
       "<Figure size 640x480 with 1 Axes>"
      ]
     },
     "metadata": {},
     "output_type": "display_data"
    }
   ],
   "source": [
    "# 배달 소요시간에 대한 히스토그램\n",
    "sns.histplot(x=df['total_time'])\n",
    "plt.xlim(0, 10000)"
   ]
  },
  {
   "cell_type": "markdown",
   "metadata": {},
   "source": [
    "#### 모델 훈련과 예측 수행 단계"
   ]
  },
  {
   "cell_type": "code",
   "execution_count": 482,
   "metadata": {},
   "outputs": [],
   "source": [
    "from sklearn.model_selection import train_test_split\n",
    "\n",
    "x = df_drop.drop(['total_time'], axis=1)\n",
    "y = df_drop['total_time']\n",
    "\n",
    "x_train, x_valid, y_train, y_valid = train_test_split(x, y, test_size=0.1, shuffle=True, random_state=42)"
   ]
  },
  {
   "cell_type": "code",
   "execution_count": 493,
   "metadata": {},
   "outputs": [
    {
     "name": "stdout",
     "output_type": "stream",
     "text": [
      "Best Parameters: {'learning_rate': 0.1, 'max_depth': 7, 'n_estimators': 300}\n",
      "Best Score: 935294.5605041966\n"
     ]
    }
   ],
   "source": [
    "import xgboost\n",
    "from sklearn.model_selection import GridSearchCV\n",
    "\n",
    "model = xgboost.XGBRegressor()\n",
    "\n",
    "param_grid = {\n",
    "    'n_estimators': [i*100 for i in range(1, 11)],\n",
    "    'max_depth': [3, 4, 5, 6, 7],\n",
    "    'learning_rate': [0.1, 0.01, 0.001]\n",
    "}\n",
    "\n",
    "grid_search = GridSearchCV(model, param_grid, cv=4, scoring='neg_mean_squared_error')\n",
    "grid_search.fit(x_train, y_train)\n",
    "\n",
    "# 최적의 하이퍼파라미터 및 모델 출력\n",
    "print(\"Best Parameters:\", grid_search.best_params_)\n",
    "print(\"Best Score:\", -grid_search.best_score_)\n",
    "\n",
    "# 최적의 모델을 사용하여 예측 수행\n",
    "best_model = grid_search.best_estimator_\n",
    "predictions = best_model.predict(x_valid)"
   ]
  },
  {
   "cell_type": "markdown",
   "metadata": {},
   "source": [
    "#### 평가지표(under_predictions, rmse) 확인"
   ]
  },
  {
   "cell_type": "code",
   "execution_count": 494,
   "metadata": {},
   "outputs": [
    {
     "name": "stdout",
     "output_type": "stream",
     "text": [
      "0.42881555686505596 890.0616056394979\n"
     ]
    }
   ],
   "source": [
    "from sklearn.metrics import mean_squared_error\n",
    "def get_under_pred_ratio(pred, labels):\n",
    "    cnt = 0\n",
    "    for i, j in zip(pred, labels):\n",
    "        if i < j:\n",
    "            cnt += 1\n",
    "    return cnt / len(labels)\n",
    "print(get_under_pred_ratio(predictions, y_valid), mean_squared_error(predictions, y_valid)**(1/2))"
   ]
  },
  {
   "cell_type": "markdown",
   "metadata": {},
   "source": [
    "#### 예측값과 실제값의 분포 확인"
   ]
  },
  {
   "cell_type": "code",
   "execution_count": 495,
   "metadata": {},
   "outputs": [
    {
     "data": {
      "text/plain": [
       "(0.0, 8000.0)"
      ]
     },
     "execution_count": 495,
     "metadata": {},
     "output_type": "execute_result"
    },
    {
     "data": {
      "image/png": "[encoded data removed]",
      "text/plain": [
       "<Figure size 640x480 with 1 Axes>"
      ]
     },
     "metadata": {},
     "output_type": "display_data"
    }
   ],
   "source": [
    "pd.DataFrame(predictions).plot(kind='hist')\n",
    "plt.xlim(0, 8000)"
   ]
  },
  {
   "cell_type": "code",
   "execution_count": 491,
   "metadata": {},
   "outputs": [
    {
     "data": {
      "text/plain": [
       "(0.0, 8000.0)"
      ]
     },
     "execution_count": 491,
     "metadata": {},
     "output_type": "execute_result"
    },
    {
     "data": {
      "image/png": "[encoded data removed]",
      "text/plain": [
       "<Figure size 640x480 with 1 Axes>"
      ]
     },
     "metadata": {},
     "output_type": "display_data"
    }
   ],
   "source": [
    "pd.DataFrame(y_valid).plot(kind='hist')\n",
    "plt.xlim(0, 8000)"
   ]
  },
  {
   "cell_type": "code",
   "execution_count": null,
   "metadata": {},
   "outputs": [],
   "source": []
  }
 ],
 "metadata": {
  "kernelspec": {
   "display_name": "base",
   "language": "python",
   "name": "python3"
  },
  "language_info": {
   "codemirror_mode": {
    "name": "ipython",
    "version": 3
   },
   "file_extension": ".py",
   "mimetype": "text/x-python",
   "name": "python",
   "nbconvert_exporter": "python",
   "pygments_lexer": "ipython3",
   "version": "3.11.4"
  },
  "orig_nbformat": 4
 },
 "nbformat": 4,
 "nbformat_minor": 2
}
