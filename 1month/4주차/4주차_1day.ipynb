{
 "cells": [
  {
   "cell_type": "markdown",
   "metadata": {},
   "source": [
    "#### Flask"
   ]
  },
  {
   "cell_type": "markdown",
   "metadata": {},
   "source": [
    "- 목적에 맞는 모듈을 사용하기 위한 가상환경을 만들어보자"
   ]
  },
  {
   "cell_type": "code",
   "execution_count": 1,
   "metadata": {},
   "outputs": [
    {
     "data": {
      "text/plain": [
       "'\\npip install virtualenv   # 가상환경 설치\\nvirtualenv venv          # 가상환경 확인\\nsource venv/bin/activate # 가상환경 접속\\npip freeze               # 설치된 모듈 확인\\n'"
      ]
     },
     "execution_count": 1,
     "metadata": {},
     "output_type": "execute_result"
    }
   ],
   "source": [
    "'''\n",
    "pip install virtualenv   # 가상환경 설치\n",
    "virtualenv venv          # 가상환경 확인\n",
    "source venv/bin/activate # 가상환경 접속\n",
    "pip freeze               # 설치된 모듈 확인\n",
    "'''"
   ]
  },
  {
   "cell_type": "markdown",
   "metadata": {},
   "source": [
    "- python 기반 마이크로 웹 프레임워크\n"
   ]
  },
  {
   "cell_type": "code",
   "execution_count": 1,
   "metadata": {},
   "outputs": [
    {
     "name": "stdout",
     "output_type": "stream",
     "text": [
      " * Serving Flask app \"__main__\" (lazy loading)\n",
      " * Environment: production\n",
      "\u001b[31m   WARNING: This is a development server. Do not use it in a production deployment.\u001b[0m\n",
      "\u001b[2m   Use a production WSGI server instead.\u001b[0m\n",
      " * Debug mode: off\n"
     ]
    },
    {
     "name": "stderr",
     "output_type": "stream",
     "text": [
      " * Running on http://127.0.0.1:5000/ (Press CTRL+C to quit)\n",
      "127.0.0.1 - - [11/Sep/2023 16:40:45] \"GET / HTTP/1.1\" 200 -\n"
     ]
    }
   ],
   "source": [
    "from flask import Flask\n",
    "\n",
    "app = Flask(__name__)\n",
    "\n",
    "@app.route('/')\n",
    "def hello_flask():\n",
    "    return 'Hello, world'\n",
    "\n",
    "if __name__ == \"__main__\":\n",
    "    app.run()"
   ]
  },
  {
   "cell_type": "markdown",
   "metadata": {},
   "source": [
    "### 인터넷과 웹"
   ]
  },
  {
   "cell_type": "markdown",
   "metadata": {},
   "source": [
    "- 인터넷: 전 세계 컴퓨터를 하나로 합치는 거대한 통신망\n",
    "- 웹: 인터넷에 연결된 사용자들이 정보를 공유할 수 있는 공간\n",
    "\n",
    "    따라서 웹은 인터넷의 서브 집합이라고 할 수 있다"
   ]
  },
  {
   "cell_type": "markdown",
   "metadata": {},
   "source": [
    "1. 웹의 작동 방식"
   ]
  },
  {
   "cell_type": "markdown",
   "metadata": {},
   "source": [
    "- 요청 > 처리 > 응답이 기본 동작 방식이다\n",
    "- 웹은 클라이언트와 서버 사이의 소통이다\n",
    "\n",
    "        1) 클라이언트, 서버에 정보 요청(주소 입력)\n",
    "        2) 서버는 요청받은 정보에 대한 처리를 진행\n",
    "        3) 서버가 클라이언트에게 요청에 대해 응답한다"
   ]
  },
  {
   "cell_type": "markdown",
   "metadata": {},
   "source": [
    "\n"
   ]
  },
  {
   "cell_type": "markdown",
   "metadata": {},
   "source": [
    "### Rest API"
   ]
  },
  {
   "cell_type": "markdown",
   "metadata": {},
   "source": [
    "- 프로그램들이 서로 상호작용하는 것을 도와주는 매개체"
   ]
  },
  {
   "cell_type": "markdown",
   "metadata": {},
   "source": [
    "1. REST API\n",
    "    - 웹 서버가 요청을 응답하는 방법론 중 하나\n",
    "    - 데이터가 아닌 자원의 관점으로 접근\n",
    "    - HTTP URI를 통해 자원을 명시, HTTP  Method를 통해 해당 자원에 대한 CRUD를 진행\n",
    "    - HTTP Method의 예: GET/POST/PUT"
   ]
  },
  {
   "cell_type": "markdown",
   "metadata": {},
   "source": [
    "2. REST API의 Stateless\n",
    "    - client의 context를 서버에서 유지하지 않는다.\n",
    "    - 이 말은 누가 요청을 하건 같은 응답을 준다는 말이다."
   ]
  },
  {
   "cell_type": "markdown",
   "metadata": {},
   "source": [
    "**postaman과 app.py를 통해 실습해보기!!**"
   ]
  }
 ],
 "metadata": {
  "interpreter": {
   "hash": "7c9b66011e6cb5edfbdfd6fa923fdd6ff0f7dd326e09b03d598974e270c61ba5"
  },
  "kernelspec": {
   "display_name": "Python 3.9.12 ('base')",
   "language": "python",
   "name": "python3"
  },
  "language_info": {
   "codemirror_mode": {
    "name": "ipython",
    "version": 3
   },
   "file_extension": ".py",
   "mimetype": "text/x-python",
   "name": "python",
   "nbconvert_exporter": "python",
   "pygments_lexer": "ipython3",
   "version": "3.9.12"
  },
  "orig_nbformat": 4
 },
 "nbformat": 4,
 "nbformat_minor": 2
}
