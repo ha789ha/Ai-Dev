{
 "cells": [
  {
   "cell_type": "markdown",
   "metadata": {},
   "source": [
    "### Live Session # 03"
   ]
  },
  {
   "cell_type": "markdown",
   "metadata": {},
   "source": [
    "#### Assignment Review one"
   ]
  },
  {
   "cell_type": "markdown",
   "metadata": {},
   "source": [
    "1. 3주차 5day 실습에서 Date가 오염돼있었다. 따라서, 전처리 하기 전에 한 번 raw Data를 훑어보는 습관을 가져보자!"
   ]
  },
  {
   "cell_type": "markdown",
   "metadata": {},
   "source": [
    "#### Assignment Review two(flask)"
   ]
  },
  {
   "cell_type": "markdown",
   "metadata": {},
   "source": [
    "1. 가상환경, 왜 씀?\n",
    "    - 특정 프로젝트에 집중하기 위해\n",
    "    - 서로 다른 프로젝트를 진행할 때, 버전 충돌을 관리하기 위해\n",
    "    "
   ]
  },
  {
   "cell_type": "markdown",
   "metadata": {},
   "source": [
    "2. 과제 내용: 메뉴 관리의 PUT and DELETE 구현하기\n",
    "    - update 함수에서 try, except 잘 활용하자\n"
   ]
  },
  {
   "cell_type": "markdown",
   "metadata": {},
   "source": [
    "3. API 제공하는 입장에서?\n",
    "    - API를 설명하기 위한 API Document를 명시해놓는 것이 좋다"
   ]
  },
  {
   "cell_type": "markdown",
   "metadata": {},
   "source": [
    "#### Introduction to DB"
   ]
  },
  {
   "cell_type": "markdown",
   "metadata": {},
   "source": [
    "1. DataBase?\n",
    "    - 정돈된 데이터를 저장하는 장소\n",
    "    - DBMS: 데이터를 관리하는 시스템"
   ]
  },
  {
   "cell_type": "markdown",
   "metadata": {},
   "source": [
    "2. RDB(Relational Database)\n",
    "    - 테이블의 형태를 통해 관계를 나타내는 데이터베이스\n",
    "    - 정형화(tabular)의 유무 > Relational vs Non-Relational\n",
    "    - 장점: 데이터의 구조의 일관성으로 추가하기 쉬움\n",
    "    - 단점: 자유도가 떨어짐"
   ]
  },
  {
   "cell_type": "markdown",
   "metadata": {},
   "source": [
    "3. Document Database(NoSql의 종류 중 하나)\n",
    "    - key와 value로 이루어짐\n",
    "    - 장점: 확장성이 좋음\n",
    "    - 단점: 데이터 중복 업데이트 해줘야 함"
   ]
  },
  {
   "cell_type": "markdown",
   "metadata": {},
   "source": [
    "#### SQL\n",
    "    - 관계형 데이터베이스를 위한 특수 목적 프로그래밍 언어"
   ]
  },
  {
   "cell_type": "markdown",
   "metadata": {},
   "source": [
    "1. SQL의 종류\n",
    "    - DML, DDL, DCL, TCL"
   ]
  },
  {
   "cell_type": "markdown",
   "metadata": {},
   "source": [
    "2. DML\n",
    "    1) SELECT\n",
    "    2) INSERT\n",
    "    3) UPDATE\n",
    "    4) DELETE"
   ]
  },
  {
   "cell_type": "markdown",
   "metadata": {},
   "source": [
    "3. ORM(Object Related Model)?\n",
    "    - 테이블을 파이썬에서 가장 효과적으로 표현하는 수단은 객체(class)이다.\n",
    "    - 그말인즉슨 SQL을 파이써닉한 언어로 표현할 수 있음을 뜻한다."
   ]
  },
  {
   "cell_type": "markdown",
   "metadata": {},
   "source": []
  }
 ],
 "metadata": {
  "kernelspec": {
   "display_name": "base",
   "language": "python",
   "name": "python3"
  },
  "language_info": {
   "codemirror_mode": {
    "name": "ipython",
    "version": 3
   },
   "file_extension": ".py",
   "mimetype": "text/x-python",
   "name": "python",
   "nbconvert_exporter": "python",
   "pygments_lexer": "ipython3",
   "version": "3.11.4"
  },
  "orig_nbformat": 4
 },
 "nbformat": 4,
 "nbformat_minor": 2
}
