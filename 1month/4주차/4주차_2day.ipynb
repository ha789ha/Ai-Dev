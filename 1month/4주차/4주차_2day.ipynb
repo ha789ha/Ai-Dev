{
 "cells": [
  {
   "cell_type": "markdown",
   "metadata": {},
   "source": [
    "### 클라우드"
   ]
  },
  {
   "cell_type": "markdown",
   "metadata": {},
   "source": [
    "1. 클라우드 서비스 이전\n",
    "\n",
    "    - 과거에는 인터넷 환경에서 서비스를 제공하기 위해 서비스 제공자는 서비스 호스팅에 필요한 모든 것 구축\n",
    "    - 서버를 직접 구축하기에 자원과 인력 비용이 크다.\n",
    "    - 이에 맞추어 IDC(Internet Data Center)가 등장 \n",
    "    - 대부분의 IDC 서버 임대는 일정 기간 임대를 하는 유연성이 떨어지는 구조"
   ]
  },
  {
   "cell_type": "markdown",
   "metadata": {},
   "source": [
    "2. 클라우드 서비스의 등장\n",
    "\n",
    "    - 다양한 서비스의 등장으로 서버를 증설하기 원하는 온디맨드 수요 증가\n",
    "    - 인공지능 개발을 위한 고성능 컴퓨터를 적은 비용으로 IT 환경 마련 가능"
   ]
  },
  {
   "cell_type": "markdown",
   "metadata": {},
   "source": [
    "3. 클라우드 서비스의 장점\n",
    "\n",
    "    - 속도: 별도의 커뮤니케이션 없이 서비스를 바로 이용 가능\n",
    "    - 접근성: 인터넷 통해 어떤 디바이스로도 접근 가능\n",
    "    - 확장성: 이용량 증가나 변화에 신속하고 유연하게 추가 확장 가능\n",
    "    - 생산성: 하드웨어, 소프트웨어 설치에 들어가는 시간 절감 가능\n",
    "    - 보안성: 클라우드 공급자가 안전성에 대해 준비\n",
    "    - 측정가능성: 분초 단위로 사용자가 클라우드 서비스로 사용한 만큼 부과"
   ]
  },
  {
   "cell_type": "markdown",
   "metadata": {},
   "source": [
    "4. 클라우드 서비스 운용 모델\n",
    "\n",
    "    - Private: 고객이 자체 데이터센터에 직접 클라우드 서비스 구축, 내부 서버망\n",
    "    - Public\n",
    "    - Hybrid: 양 잠점을 취합, 고객의 핵심 시스템은 내부에 두면서 외부의 클라우드를 활용하는 형태"
   ]
  },
  {
   "cell_type": "markdown",
   "metadata": {},
   "source": [
    "5. 클라우드 서비스 제공 모델\n",
    "\n",
    "    - On-premises: 모두 본인이 구축\n",
    "    - laaS: \n",
    "    - paaS: 중간 과정 클라우드, data, applications가 본인이 구축\n",
    "    - saaS: 모두 클라우드가 구축(예: mail service 등)"
   ]
  },
  {
   "cell_type": "markdown",
   "metadata": {},
   "source": [
    "### AWS"
   ]
  },
  {
   "cell_type": "markdown",
   "metadata": {},
   "source": [
    "- 강의에서는 Foundation Service에 대해 다룰 예정"
   ]
  },
  {
   "cell_type": "markdown",
   "metadata": {},
   "source": [
    "1. AWS Compute Services\n",
    "\n",
    "    - Amazon EC2: 1) 몇 분의 시간만으로도 인스턴스 프로비저닝 가능\n",
    "                  2) 실행한 만큼만 비용 지불\n",
    "                  \n",
    "    - compute-optimized\n",
    "    - Memory-optimized: 메모리를 많이 잡아먹는 작업을 수행시\n",
    "    - Accelerated-computing: 인공지능 모델에 많이 쓰임\n",
    "    - storage-optimized \n"
   ]
  },
  {
   "cell_type": "markdown",
   "metadata": {},
   "source": [
    "2. AWS Global Infrastructure\n",
    "\n",
    "    - region이라는 그룹으로 데이터 센터를 구축하여 안정적 운영 가능\n",
    "    - 서울 region은 4개 이상의 가용영역 존재\n",
    "    - region 선택 시 고려사항: compliance, proximity, Availability"
   ]
  },
  {
   "cell_type": "markdown",
   "metadata": {},
   "source": [
    "3. Regions & Availability Zones\n",
    "\n",
    "    - region은 지리적 위치를 의미하며 최소한 2개 이상의 가용 영역으로 구성\n",
    "    - 각 가용 영역은 다른 가용 영역의 장애로부터 영향을 받지 않도록 분리돼있으나 지연 시간은 짧은 링크로 연결돼있음"
   ]
  },
  {
   "cell_type": "markdown",
   "metadata": {},
   "source": [
    "4. AWS Storage Services\n",
    "\n",
    "    - EBS와 S3 두 가지 스토리지를 많이 사용\n",
    "    - EBS는 EC2 인스턴스에서 사용할 수 있는 volume을 제공하는 스토리지 서비스, 데이터를 보존해야 하는 경우에\n",
    "    - S3는 데이터, 메타데이터, 키 세 개로 구성된 객체를 bucket에 저장하는 스토리지 서비스, 데이터 자주 접근하지만 변경하지 않을때\n"
   ]
  },
  {
   "cell_type": "markdown",
   "metadata": {},
   "source": [
    "5. AWS Databases Service\n",
    "\n",
    "    - 관계형 데이터베이스와 비관계형데이터베이스를 위한 다양한 서비스 제공\n",
    "    - 아마존 RDS: Aurora, postgreSQL, MySQL, mariaDB, Oracle Database, microsoft SQL server"
   ]
  },
  {
   "cell_type": "markdown",
   "metadata": {},
   "source": [
    "### AWS Environment"
   ]
  },
  {
   "cell_type": "markdown",
   "metadata": {},
   "source": [
    "1. EC2 생성\n",
    "\n",
    "    - 딥러닝 AMI가 설치된 EC2 생성하여 필요 개발 환경 사전 세팅\n",
    "    - 인스턴스 유형 선택 & 보안 그룹 설정: computing에 최적화된 가장 저렴한 c5.large 인스턴스 유형 선택 \n",
    "    - 키 페어 생성 & 인스턴스 시작 검토: 키 페어 이름 입력하고 다운로드\n",
    "    - 탄력적 IP 생성\n",
    "    - VS code로 환경 테스트"
   ]
  },
  {
   "cell_type": "markdown",
   "metadata": {},
   "source": [
    "###  API to serve ML model"
   ]
  },
  {
   "cell_type": "markdown",
   "metadata": {},
   "source": [
    "1. interface\n",
    "\n",
    "    - 사용자는 기계와 소프트웨어를 제어하기 위해 인터페이스를 정해진 메뉴얼에 따라 원하는 경험을 획득\n",
    "    - 인터페이스는 상호 합의된 메뉴얼에 따라 적절한 입력을 받아 기대되는 출력을 제공할 수 있어야 함"
   ]
  },
  {
   "cell_type": "markdown",
   "metadata": {},
   "source": [
    "2. API?\n",
    "\n",
    "    - 기계와 기계, 소프트웨어오 소프으퉤어 간의 커뮤니케이션을 위한 인터페이스를 의미\n",
    "    - 노드와 노드 간 데이터를 주고 받기 위한 인터페이스로, 사전에 정해진 정의의 따라 입력이 들어왔을 때 적절한 출력 정보 전달"
   ]
  },
  {
   "cell_type": "markdown",
   "metadata": {},
   "source": [
    "3. RESTful API for ML/DL model interface\n",
    "\n",
    "    - REST 아키텍처를 따르는 API로 HTTP URI를 통해 자원 명시, Method를 통해 필요한 연산 요청 반환하는 API 저장\n",
    "    - RESTful APU는 요청 메세지만 봐도 어떤 내용으로 되어있는지 알 수 있도록 함, 보통 json 형태"
   ]
  },
  {
   "cell_type": "markdown",
   "metadata": {},
   "source": [
    "4. Serialization & De-serialization\n",
    "\n",
    "    - 학습한 모델의 재사용 및 배포를 위해서 저장하고 불러오는 것\n",
    "    - 직렬화를 통해 disk에 write하여 어디든 전송하고 불러올 수 있는 형태로 반환\n",
    "    - de-serializtion을 통패 파이썬 혹을 다른 환경에서 model을 불러와 추론/학습에 사용"
   ]
  },
  {
   "cell_type": "markdown",
   "metadata": {},
   "source": [
    "5. Skeleton of handler to serve model\n",
    "\n",
    "    - serving을 위한 다양한 FrameWorks들이 존재\n",
    "    - "
   ]
  },
  {
   "cell_type": "markdown",
   "metadata": {},
   "source": []
  }
 ],
 "metadata": {
  "kernelspec": {
   "display_name": "base",
   "language": "python",
   "name": "python3"
  },
  "language_info": {
   "codemirror_mode": {
    "name": "ipython",
    "version": 3
   },
   "file_extension": ".py",
   "mimetype": "text/x-python",
   "name": "python",
   "nbconvert_exporter": "python",
   "pygments_lexer": "ipython3",
   "version": "3.11.4"
  },
  "orig_nbformat": 4
 },
 "nbformat": 4,
 "nbformat_minor": 2
}
