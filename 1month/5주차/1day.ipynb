{
 "cells": [
  {
   "cell_type": "markdown",
   "metadata": {},
   "source": [
    "### Django!"
   ]
  },
  {
   "cell_type": "markdown",
   "metadata": {},
   "source": [
    "- Python 기반 웹 프레임워크(인스타그램, 핀터레스트 등)\n",
    "- flask: micro framework, django는 그에 반해 모든 것을 할 수 있음"
   ]
  },
  {
   "cell_type": "markdown",
   "metadata": {},
   "source": [
    "1. virtualenv django -- 가상환경 만들기\n",
    "2. pip install django -- 장고 설치\n",
    "3. django -admin startprofject webproj -- webproj라는 이름의 프로젝트 만들기\n",
    "4. cd webproj -- webproj 폴더로 이동해 manage.py라느 이름의 파일 확인\n",
    "5. python manege.py runserver -- 서버 생성"
   ]
  },
  {
   "cell_type": "markdown",
   "metadata": {},
   "source": [
    "1. Django의 구성 요소\n",
    "\n",
    "    - mannage.py 실행하여 실습"
   ]
  },
  {
   "cell_type": "code",
   "execution_count": 1,
   "metadata": {},
   "outputs": [
    {
     "data": {
      "text/plain": [
       "'\\nmanage.py 구성요소\\nwebproj/\\n├── __init__.py\\n├── asgi.py\\n├── settings.py\\n├── urls.py\\n└── wsgi.py\\n'"
      ]
     },
     "execution_count": 1,
     "metadata": {},
     "output_type": "execute_result"
    }
   ],
   "source": [
    "'''\n",
    "manage.py 구성요소\n",
    "webproj/\n",
    "├── __init__.py\n",
    "├── asgi.py\n",
    "├── settings.py\n",
    "├── urls.py\n",
    "└── wsgi.py\n",
    "'''"
   ]
  },
  {
   "cell_type": "markdown",
   "metadata": {},
   "source": [
    "2. dgango Project and App"
   ]
  },
  {
   "cell_type": "markdown",
   "metadata": {},
   "source": [
    "- 한 Project는 여러 App으로 구성돼있다. ex) blog app, sports app etc...\n",
    "\n",
    "- django app 만들기\n",
    "    1) django-admin startapp homepage -- 새로운 앱 만들기\n",
    "    2) 마찬가지로 homepage에 여러 파일들이 생성\n"
   ]
  },
  {
   "cell_type": "markdown",
   "metadata": {},
   "source": [
    "3. django의 MVT pattern\n",
    "\n",
    "    - 사용자가 django의 대한 url request\n",
    "    - url.py에 해당 url 있다면 view.py로 전달\n",
    "    - view에서 해당 요청을 처리하며 model은 db를 관리(ORM 방식), templete은 html을 관리, django는 이에서 templete언어라는 django만의 언어를 사용"
   ]
  },
  {
   "cell_type": "markdown",
   "metadata": {},
   "source": [
    "### view로 Request Handling!"
   ]
  },
  {
   "cell_type": "markdown",
   "metadata": {},
   "source": [
    "homepage app에서 실습 진행"
   ]
  },
  {
   "cell_type": "markdown",
   "metadata": {},
   "source": [
    "1. viwe.py에서 hello, world를 출력하는 index라는 함수를 생성"
   ]
  },
  {
   "cell_type": "code",
   "execution_count": null,
   "metadata": {},
   "outputs": [],
   "source": [
    "def index(request):\n",
    "    return HttpResponse(\"Hello World!\")"
   ]
  },
  {
   "cell_type": "markdown",
   "metadata": {},
   "source": [
    "2. webproj의 settins.py에서 INSTALLED_APPS에 hompage를 추가"
   ]
  },
  {
   "cell_type": "markdown",
   "metadata": {},
   "source": [
    "3. urls.py에서 index함수에 대한 path 추가"
   ]
  },
  {
   "cell_type": "code",
   "execution_count": null,
   "metadata": {},
   "outputs": [],
   "source": [
    "urlpatterns = [\n",
    "    path('', index), # 127.0.0.1/\n",
    "    path(\"admin/\", admin.site.urls) # 127.0.0.1/admin/\n",
    "]"
   ]
  },
  {
   "cell_type": "markdown",
   "metadata": {},
   "source": [
    "4. admin 페이지를 관리하기 위해 127.0.0.1/admin/ 주소 접속"
   ]
  },
  {
   "cell_type": "markdown",
   "metadata": {},
   "source": [
    "5. 로그인을 하기 위한 아이디와 비밀번호 설정\n",
    "    1) python manage.py migrate\n",
    "    2) python manage.py createsuperuser"
   ]
  },
  {
   "cell_type": "markdown",
   "metadata": {},
   "source": [
    "### Template으로 보여줄 화면 구성하기"
   ]
  },
  {
   "cell_type": "markdown",
   "metadata": {},
   "source": [
    "- html문서를 따로 관리해주는 render 함수\n",
    "- render(request, '.hmtl', {}) 형태로 전달"
   ]
  },
  {
   "cell_type": "markdown",
   "metadata": {},
   "source": [
    "1. render(requst, 'index.html')의 형태로 함수 만들기\n",
    "2. index.html의 경로를 설정해주기 위해 setting.py에 경로 저장\n",
    "3. 이 때, 장고의 특별한 언어인 template 언어를 사용해 미리 저장해 놓은 변수들을 전달해 줄 수 있음"
   ]
  },
  {
   "cell_type": "code",
   "execution_count": null,
   "metadata": {},
   "outputs": [],
   "source": [
    "'''\n",
    "<!DOCTYPE html>\n",
    "<html>\n",
    "    <head>\n",
    "        <title>python django example</title>\n",
    "    </head>\n",
    "\n",
    "    <body>\n",
    "        <h1>Title</h1>\n",
    "        <p>blah blah</p>\n",
    "        <p>{{ my_name | length }}</p>\n",
    "\n",
    "        {% for element in my_list%}\n",
    "            {% if not element|divisibleby:\"2\" %} \n",
    "                <p>{{element}}</p>\n",
    "            {%endif%}\n",
    "        {% endfor%}\n",
    "\n",
    "\n",
    "\n",
    "    </body>\n",
    "</html>'''"
   ]
  }
 ],
 "metadata": {
  "kernelspec": {
   "display_name": "base",
   "language": "python",
   "name": "python3"
  },
  "language_info": {
   "codemirror_mode": {
    "name": "ipython",
    "version": 3
   },
   "file_extension": ".py",
   "mimetype": "text/x-python",
   "name": "python",
   "nbconvert_exporter": "python",
   "pygments_lexer": "ipython3",
   "version": "3.11.4"
  },
  "orig_nbformat": 4
 },
 "nbformat": 4,
 "nbformat_minor": 2
}
