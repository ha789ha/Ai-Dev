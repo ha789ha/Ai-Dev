{
 "cells": [
  {
   "cell_type": "markdown",
   "metadata": {},
   "source": [
    "### Model!"
   ]
  },
  {
   "cell_type": "markdown",
   "metadata": {},
   "source": [
    "- 구조화 된 데이터베이스를 관리\n",
    "- Related DB를 일반적으로 많이 사용\n",
    "- Django에서는 ORM 방식을 사용해 DB를 관리(Table를 객체 단위로 봄)\n",
    "- models.py에서 이를 관리"
   ]
  },
  {
   "cell_type": "markdown",
   "metadata": {},
   "source": [
    "1. models.py 에서 model 객체 생성"
   ]
  },
  {
   "cell_type": "code",
   "execution_count": null,
   "metadata": {},
   "outputs": [],
   "source": [
    "class Coffee(models.Model):\n",
    "    def __str__(self):\n",
    "        return self.name\n",
    "    \n",
    "    name = models.CharField(default=\"\",null=False, max_length=30) # 기본값, null의 허용 여부, 최대 길이\n",
    "    price = models.IntegerField(default=0) \n",
    "    is_ice = models.BooleanField(default=False)\n",
    "    \n",
    "'''\n",
    "문자열: charField\n",
    "숫자: IntegerField, SmallIntegerField..\n",
    "논리형: BooleanField\n",
    "날짜/시간: DateTimeField\n",
    "''' "
   ]
  },
  {
   "cell_type": "markdown",
   "metadata": {},
   "source": [
    "2. 터미널에서 migrate 진행\n",
    "\n",
    "    1) python manage.py makemigrations homepage\n",
    "    2) python manage.py migrate\n",
    "    "
   ]
  },
  {
   "cell_type": "markdown",
   "metadata": {},
   "source": [
    "3. admin.py에서 model 등록"
   ]
  },
  {
   "cell_type": "code",
   "execution_count": null,
   "metadata": {},
   "outputs": [],
   "source": [
    "from django.contrib import admin\n",
    "from .models import MyFamily\n",
    "\n",
    "# Register your models here.\n",
    "admin.site.register(MyFamily)"
   ]
  }
 ],
 "metadata": {
  "kernelspec": {
   "display_name": "base",
   "language": "python",
   "name": "python3"
  },
  "language_info": {
   "name": "python",
   "version": "3.11.4"
  },
  "orig_nbformat": 4
 },
 "nbformat": 4,
 "nbformat_minor": 2
}
