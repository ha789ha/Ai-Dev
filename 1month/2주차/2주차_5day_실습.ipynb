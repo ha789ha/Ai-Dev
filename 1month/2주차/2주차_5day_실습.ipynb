{
 "cells": [
  {
   "cell_type": "code",
   "execution_count": 1,
   "metadata": {},
   "outputs": [],
   "source": [
    "import numpy as np\n",
    "import torch"
   ]
  },
  {
   "cell_type": "code",
   "execution_count": 30,
   "metadata": {},
   "outputs": [
    {
     "name": "stdout",
     "output_type": "stream",
     "text": [
      "tensor([[ 3.,  1.,  1.],\n",
      "        [ 1., -2., -1.],\n",
      "        [ 1.,  1.,  1.]])\n",
      "torch.Size([3, 3])\n"
     ]
    }
   ],
   "source": [
    "# 행렬 코딩         \n",
    "A = torch.tensor([[3, 1, 1], [1, -2, -1], [1, 1, 1]], dtype=torch.float)\n",
    "print(A)\n",
    "print(A.shape)"
   ]
  },
  {
   "cell_type": "code",
   "execution_count": 31,
   "metadata": {},
   "outputs": [
    {
     "name": "stdout",
     "output_type": "stream",
     "text": [
      "tensor([4., 1., 2.])\n",
      "torch.Size([3])\n"
     ]
    }
   ],
   "source": [
    "# 벡터 코딩\n",
    "B = torch.tensor([4, 1, 2], dtype=torch.float)\n",
    "print(B)\n",
    "print(B.shape)  "
   ]
  },
  {
   "cell_type": "code",
   "execution_count": 32,
   "metadata": {},
   "outputs": [
    {
     "name": "stdout",
     "output_type": "stream",
     "text": [
      "tensor([[ 5.0000e-01, -9.9341e-09, -5.0000e-01],\n",
      "        [ 1.0000e+00, -1.0000e+00, -2.0000e+00],\n",
      "        [-1.5000e+00,  1.0000e+00,  3.5000e+00]])\n",
      "torch.Size([3, 3])\n"
     ]
    }
   ],
   "source": [
    "# 역행렬 구하기\n",
    "a_u = torch.inverse(A)\n",
    "print(a_u)\n",
    "print(a_u.shape)"
   ]
  },
  {
   "cell_type": "code",
   "execution_count": 33,
   "metadata": {},
   "outputs": [
    {
     "name": "stdout",
     "output_type": "stream",
     "text": [
      "tensor([ 1., -1.,  2.])\n"
     ]
    }
   ],
   "source": [
    "# Ax = B의 해 구하기\n",
    "x = a_u @ B\n",
    "print(x)"
   ]
  }
 ],
 "metadata": {
  "interpreter": {
   "hash": "31f2aee4e71d21fbe5cf8b01ff0e069b9275f58929596ceb00d14d90e3e16cd6"
  },
  "kernelspec": {
   "display_name": "conda",
   "language": "python",
   "name": "python3"
  },
  "language_info": {
   "codemirror_mode": {
    "name": "ipython",
    "version": 3
   },
   "file_extension": ".py",
   "mimetype": "text/x-python",
   "name": "python",
   "nbconvert_exporter": "python",
   "pygments_lexer": "ipython3",
   "version": "3.10.5"
  },
  "orig_nbformat": 4
 },
 "nbformat": 4,
 "nbformat_minor": 2
}
