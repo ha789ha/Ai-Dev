{
 "cells": [
  {
   "cell_type": "markdown",
   "metadata": {},
   "source": [
    "#### 3.1 정적 웹사이트와 동적 웹사이트"
   ]
  },
  {
   "cell_type": "markdown",
   "metadata": {},
   "source": [
    "- HTML 내용이 고정된 정적 웹 사이트, HTML 문서가 완전하게 응답된다.\n",
    "- HTML 내용이 변하는 동적 웹 사이트, 렌더링이 될 때까지의 지연시간이 존재한다.\n"
   ]
  },
  {
   "cell_type": "markdown",
   "metadata": {},
   "source": [
    "1. 동적 웹 사이트의 동작 방식\n",
    "    - javascript 언어가 비동기 처리를 통해 필요한 데이터를 채움\n",
    "    - 동기 처리: 요청에 따른 응답을 기다림\n",
    "    - 비동기 처리: 요청에 따른 응답을 기다리지 않음\n",
    "    - 따라서 비동기 처리의 경우 데이터가 온전하지 않을 수 있다, request는 이의 경우를 처리하기 어려움\n",
    "    \n"
   ]
  },
  {
   "cell_type": "markdown",
   "metadata": {},
   "source": [
    "2. 해결법?\n",
    "    - 임의로 시간을 지연한 후, 데이처 처리가 끝난뒤 정보를 가져옴\n",
    "    - 키보드 입력, 마우스 클릭 등의 이벤트를 어떻게 처리할까? > 파이썬으로 조작해보자!(selenium)"
   ]
  },
  {
   "cell_type": "markdown",
   "metadata": {},
   "source": [
    "#### 3.2 브라우저 자동화, selenium"
   ]
  },
  {
   "cell_type": "code",
   "execution_count": 6,
   "metadata": {},
   "outputs": [
    {
     "name": "stdout",
     "output_type": "stream",
     "text": [
      "<html><head>\n",
      "    <title>Example Domain</title>\n",
      "\n",
      "    <meta charset=\"utf-8\">\n",
      "    <meta http-equiv=\"Content-type\" content=\"text/html; charset=utf-8\">\n",
      "    <meta name=\"viewport\" content=\"width=device-width, initial-scale=1\">\n",
      "    <style type=\"text/css\">\n",
      "    body {\n",
      "        background-color: #f0f0f2;\n",
      "        margin: 0;\n",
      "        padding: 0;\n",
      "        font-family: -apple-system, system-ui, BlinkMacSystemFont, \"Segoe UI\", \"Open Sans\", \"Helvetica Neue\", Helvetica, Arial, sans-serif;\n",
      "        \n",
      "    }\n",
      "    div {\n",
      "        width: 600px;\n",
      "        margin: 5em auto;\n",
      "        padding: 2em;\n",
      "        background-color: #fdfdff;\n",
      "        border-radius: 0.5em;\n",
      "        box-shadow: 2px 3px 7px 2px rgba(0,0,0,0.02);\n",
      "    }\n",
      "    a:link, a:visited {\n",
      "        color: #38488f;\n",
      "        text-decoration: none;\n",
      "    }\n",
      "    @media (max-width: 700px) {\n",
      "        div {\n",
      "            margin: 0 auto;\n",
      "            width: auto;\n",
      "        }\n",
      "    }\n",
      "    </style>    \n",
      "</head>\n",
      "\n",
      "<body>\n",
      "<div>\n",
      "    <h1>Example Domain</h1>\n",
      "    <p>This domain is for use in illustrative examples in documents. You may use this\n",
      "    domain in literature without prior coordination or asking for permission.</p>\n",
      "    <p><a href=\"https://www.iana.org/domains/example\">More information...</a></p>\n",
      "</div>\n",
      "\n",
      "\n",
      "</body></html>\n"
     ]
    }
   ],
   "source": [
    "from selenium import webdriver\n",
    "from selenium.webdriver.chrome.service import Service\n",
    "from webdriver_manager.chrome import ChromeDriverManager\n",
    "\n",
    "## 드라이버 객체 만들기(크롬 브라우저 생성)\n",
    "driver = webdriver.Chrome(service=Service(ChromeDriverManager().install()))\n",
    "driver.get('https://www.example.com')\n",
    "print(driver.page_source)"
   ]
  },
  {
   "cell_type": "code",
   "execution_count": 2,
   "metadata": {},
   "outputs": [],
   "source": [
    "## 명령 종료 후 창 닫게 하기\n",
    "with webdriver.Chrome(service=Service(ChromeDriverManager().install())) as driver:\n",
    "    driver.get('https://www.example.com')"
   ]
  },
  {
   "cell_type": "code",
   "execution_count": 10,
   "metadata": {},
   "outputs": [
    {
     "name": "stdout",
     "output_type": "stream",
     "text": [
      "This domain is for use in illustrative examples in documents. You may use this domain in literature without prior coordination or asking for permission.\n"
     ]
    }
   ],
   "source": [
    "## drive에서 특정 요소 추출\n",
    "\n",
    "# by import\n",
    "from selenium.webdriver.common.by import By\n",
    "\n",
    "# P 태그 해당하는 요소 찾기\n",
    "with webdriver.Chrome(service=Service(ChromeDriverManager().install())) as driver:\n",
    "    driver.get('https://www.example.com')\n",
    "    print(driver.find_element(By.TAG_NAME, 'p').text) # 여러개를 찾기 위해서는 find_elements\n"
   ]
  },
  {
   "cell_type": "markdown",
   "metadata": {},
   "source": [
    "#### 3.3 wait and call"
   ]
  },
  {
   "cell_type": "markdown",
   "metadata": {},
   "source": [
    "1. wait\n",
    "    - implicit wait: 로딩이 될 때까지 지정한 시간 동안 대기\n",
    "    - Explicit wait: 특정 요소에 대한 제약\n",
    "    "
   ]
  },
  {
   "cell_type": "markdown",
   "metadata": {},
   "source": [
    "1.1 xpath?\n",
    " - 스크래핑을 방지할 목적으로 클래스 이름을 랜덤으로 생성해  놓은것\n",
    " - 위치를 활용한 방법으로 스크래핑 가능"
   ]
  },
  {
   "cell_type": "code",
   "execution_count": 12,
   "metadata": {},
   "outputs": [],
   "source": [
    "## 개발자 도구 > 해당 태그 > 복사 > xpath\n",
    "url = '//*[@id=\"__next\"]/div/main/div[2]/div/div[4]/div[1]/div[1]/div/a/div[2]/p[1]'\n",
    "driver = webdriver.Chrome(service=Service(ChromeDriverManager().install()))\n",
    "\n",
    "driver.get('https://indistreet.com/live?sortOption=startDate%3AASC')\n",
    "\n",
    "# 비동기 방식이기 때문에 오류 발생\n",
    "driver.find_element(By.XPATH, url)"
   ]
  },
  {
   "cell_type": "markdown",
   "metadata": {},
   "source": [
    "implict wait"
   ]
  },
  {
   "cell_type": "code",
   "execution_count": 17,
   "metadata": {},
   "outputs": [
    {
     "name": "stdout",
     "output_type": "stream",
     "text": [
      "<selenium.webdriver.remote.webelement.WebElement (session=\"3ffd528d010cf64af7f5d70601b01c34\", element=\"FFD9C3088134D72DDE29C53571820887_element_214\")>\n"
     ]
    }
   ],
   "source": [
    "with webdriver.Chrome(service=Service(ChromeDriverManager().install())) as driver:\n",
    "    driver.get('https://indistreet.com/live?sortOption=startDate%3AASC')\n",
    "\n",
    "    driver.implicitly_wait(10)\n",
    "    \n",
    "    print(driver.find_element(By.XPATH, url))\n",
    "    "
   ]
  },
  {
   "cell_type": "markdown",
   "metadata": {},
   "source": [
    "explicit wait"
   ]
  },
  {
   "cell_type": "code",
   "execution_count": 18,
   "metadata": {},
   "outputs": [
    {
     "name": "stdout",
     "output_type": "stream",
     "text": [
      "Knock Live Rock band\n"
     ]
    }
   ],
   "source": [
    "# until(): 인자의 조건이 만족될 때까지\n",
    "# until_not(): 인자의 조건이 만족되지 않을 때까지\n",
    "from selenium.webdriver.support import expected_conditions as EC\n",
    "from selenium.webdriver.support.ui import WebDriverWait\n",
    "\n",
    "with webdriver.Chrome(service=Service(ChromeDriverManager().install())) as driver:\n",
    "    driver.get('https://indistreet.com/live?sortOption=startDate%3AASC')\n",
    "\n",
    "    element = WebDriverWait(driver, 10).until(EC.presence_of_element_located((By.XPATH, url)))\n",
    "    \n",
    "    print(element.text)"
   ]
  },
  {
   "cell_type": "code",
   "execution_count": 22,
   "metadata": {},
   "outputs": [
    {
     "name": "stdout",
     "output_type": "stream",
     "text": [
      "<selenium.webdriver.remote.webelement.WebElement (session=\"7501b51b003cbafa0012123f940db5e4\", element=\"66ECE532E635B9A3DB40C6EFA03ABC16_element_9\")>\n",
      "<selenium.webdriver.remote.webelement.WebElement (session=\"7501b51b003cbafa0012123f940db5e4\", element=\"66ECE532E635B9A3DB40C6EFA03ABC16_element_211\")>\n",
      "<selenium.webdriver.remote.webelement.WebElement (session=\"7501b51b003cbafa0012123f940db5e4\", element=\"66ECE532E635B9A3DB40C6EFA03ABC16_element_212\")>\n",
      "<selenium.webdriver.remote.webelement.WebElement (session=\"7501b51b003cbafa0012123f940db5e4\", element=\"66ECE532E635B9A3DB40C6EFA03ABC16_element_214\")>\n",
      "<selenium.webdriver.remote.webelement.WebElement (session=\"7501b51b003cbafa0012123f940db5e4\", element=\"66ECE532E635B9A3DB40C6EFA03ABC16_element_215\")>\n"
     ]
    }
   ],
   "source": [
    "# 여러 개의 공연 제목 가져오기\n",
    "with webdriver.Chrome(service=Service(ChromeDriverManager().install())) as driver:       \n",
    "    driver.get('https://indistreet.com/live?sortOption=startDate%3AASC')\n",
    "    driver.implicitly_wait(10)\n",
    "    for i in range(1, 6):\n",
    "        url =  f'//*[@id=\"__next\"]/div/main/div[2]/div/div[4]/div[1]/div{[i]}/div/a/div[2]/p[1]'\n",
    "        print(driver.find_element(By.XPATH, url))"
   ]
  },
  {
   "cell_type": "markdown",
   "metadata": {},
   "source": [
    "#### 3.4 마우스 이벤트 처리"
   ]
  },
  {
   "cell_type": "markdown",
   "metadata": {},
   "source": [
    "1. 입력하고자 하는 요소 탐색\n",
    "2. 입력하고자 하는 내용 click으로 전달\n",
    "3. .perform()을 통해 수행"
   ]
  },
  {
   "cell_type": "code",
   "execution_count": 23,
   "metadata": {},
   "outputs": [],
   "source": [
    "# 라이브러리 불러오기 \n",
    "from selenium import webdriver\n",
    "from selenium.webdriver import ActionChains\n",
    "from selenium.webdriver.common.by import By\n",
    "from webdriver_manager.chrome import ChromeDriver"
   ]
  },
  {
   "cell_type": "code",
   "execution_count": 27,
   "metadata": {},
   "outputs": [],
   "source": [
    "driver = webdriver.Chrome(service=Service(ChromeDriverManager().install()))\n",
    "driver.get('https://qna.programmers.co.kr')\n",
    "driver.implicitly_wait(0.5)\n",
    "\n",
    "button = driver.find_element(By.XPATH, '//*[@id=\"main-app-gnb-header\"]/div/div/div[1]/div/div[2]/div/div/div[1]/span[1]/a[1]')\n",
    "ActionChains(driver).click(button).perform()"
   ]
  },
  {
   "cell_type": "markdown",
   "metadata": {},
   "source": [
    "#### 3.5 키보드 이벤트 처리"
   ]
  },
  {
   "cell_type": "code",
   "execution_count": 29,
   "metadata": {},
   "outputs": [],
   "source": [
    "import time\n",
    "driver = webdriver.Chrome(service=Service(ChromeDriverManager().install()))\n",
    "driver.get('https://qna.programmers.co.kr')\n",
    "driver.implicitly_wait(0.5)\n",
    "\n",
    "button = driver.find_element(By.XPATH, '//*[@id=\"main-app-gnb-header\"]/div/div/div[1]/div/div[2]/div/div/div[1]/span[1]/a[1]')\n",
    "ActionChains(driver).click(button).perform()\n",
    "\n",
    "# 아이디, input 요소에 아이디 버튼 적용\n",
    "id_input = driver.find_element(By.XPATH, '//*[@id=\"main-app-account\"]/div/div[2]/div/div[2]/div[1]/div/div[2]/div[2]/input')\n",
    "ActionChains(driver).send_keys_to_element(id_input, '내아이디').perform()\n",
    "time.sleep(1)\n",
    "# 패스워드에 비밀번호 입력\n",
    "password_input = driver.find_element(By.XPATH, '//*[@id=\"main-app-account\"]/div/div[2]/div/div[2]/div[1]/div/div[2]/div[4]/input')\n",
    "ActionChains(driver).send_keys_to_element(password_input, 12345678)\n",
    "time.sleep(1)\n",
    "# 로그인 버튼 누르기\n",
    "login = driver.find_element(By.XPATH ,'//*[@id=\"main-app-account\"]/div/div[2]/div/div[2]/div[1]/div/div[2]/button')\n",
    "ActionChains(driver).click(login).perform()"
   ]
  }
 ],
 "metadata": {
  "kernelspec": {
   "display_name": "conda",
   "language": "python",
   "name": "conda"
  },
  "language_info": {
   "codemirror_mode": {
    "name": "ipython",
    "version": 3
   },
   "file_extension": ".py",
   "mimetype": "text/x-python",
   "name": "python",
   "nbconvert_exporter": "python",
   "pygments_lexer": "ipython3",
   "version": "3.9.12"
  },
  "orig_nbformat": 4
 },
 "nbformat": 4,
 "nbformat_minor": 2
}
