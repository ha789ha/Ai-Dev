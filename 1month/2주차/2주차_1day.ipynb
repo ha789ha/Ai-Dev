{
 "cells": [
  {
   "cell_type": "markdown",
   "metadata": {},
   "source": [
    "### web scraping 기초"
   ]
  },
  {
   "cell_type": "markdown",
   "metadata": {},
   "source": [
    "- 컴퓨터를 묶은 근거리 네트워크 탄생(Local Area Network, LAN)\n",
    "- 범지구적으로 연결된 네트워크, 인터넷의 탄생\n",
    "- 인터넷: 컴퓨터끼리 네트워크를 연결한 것\n",
    "- web: 인터넷에서 정보를 교환할 수 있는 환경(WWW)"
   ]
  },
  {
   "cell_type": "markdown",
   "metadata": {},
   "source": [
    "1. web에서 정보를 주고 받는 법\n",
    "    - 클라이언트: 정보 요청\n",
    "    - 서버: 요청에 대해 서버가 작업을 수행 \n",
    "    - 수행한 작업의 결과를 클라이언트에게 응답\n",
    "    - HTTP(Hypertext Transfer Protocol)의 구조(웹 상에서 정보를 주고받기 위한 약속)\n",
    "    - 클라이언트에서 서버로 요청하는 것을 HTTP Request라고 한다.\n",
    "    - 서버에 대해 클라이언트가 응답하는 것을 HTTP Response라 한다."
   ]
  },
  {
   "cell_type": "markdown",
   "metadata": {},
   "source": [
    "2. Head와 Body\n",
    "    - Head: 요청/응답에 대한 정보\n",
    "    - Body: 내용"
   ]
  },
  {
   "cell_type": "markdown",
   "metadata": {},
   "source": [
    "3. 웹 사이트와 웹 페이지\n",
    "    - 웹 페이지의 모음 > 웹 사이트\n",
    "    - 웹 브라우저는 HTML 요청을 보내고 HTTP 응답에 담긴 문서를 화면을 그려주는 역할을 담당 "
   ]
  },
  {
   "cell_type": "markdown",
   "metadata": {},
   "source": [
    "### HTML의 구조"
   ]
  },
  {
   "cell_type": "markdown",
   "metadata": {},
   "source": [
    "- HyperText는 웹 페이지를 다른 페이지로 연결하는 링크\n",
    "- 웹브라우저마다 지원하는 태그가 다른 경우가 존재\n",
    "- HTML 문서의 태그가 어떻게 묶여있는지 잘 파악해야한다.\n",
    "- 현재 HTML의 표준은 HTML5이다."
   ]
  },
  {
   "cell_type": "code",
   "execution_count": null,
   "metadata": {},
   "outputs": [],
   "source": [
    "'''\n",
    "# doctype 선언\n",
    "<!DOCTYPE html>\n",
    "<html lang=\"ko\">\n",
    "\n",
    "# 여는 태그\n",
    "<head>\n",
    "    <meta charset=\"UTF-8\">\n",
    "    <title>HTML !DOCTYPE declaration</title>\n",
    "\n",
    "# 닫는 태그\n",
    "</head>\n",
    "<body>\n",
    "\n",
    "    <p>이 문서는 HTML 문서입니다.</p>\n",
    "\n",
    "</body>\n",
    "</html>\n",
    "'''"
   ]
  },
  {
   "cell_type": "markdown",
   "metadata": {},
   "source": [
    "### Python을 통해서 HTTP 통신"
   ]
  },
  {
   "cell_type": "code",
   "execution_count": 8,
   "metadata": {},
   "outputs": [
    {
     "data": {
      "text/plain": [
       "<Response [200]>"
      ]
     },
     "execution_count": 8,
     "metadata": {},
     "output_type": "execute_result"
    }
   ],
   "source": [
    "# http 통신 라이브러리인 requests 실행\n",
    "import requests"
   ]
  },
  {
   "cell_type": "markdown",
   "metadata": {},
   "source": [
    "정보 요청(get)"
   ]
  },
  {
   "cell_type": "code",
   "execution_count": 9,
   "metadata": {},
   "outputs": [],
   "source": [
    "res = requests.get('https://www.naver.com')"
   ]
  },
  {
   "cell_type": "code",
   "execution_count": 10,
   "metadata": {},
   "outputs": [
    {
     "data": {
      "text/plain": [
       "{'Server': 'NWS', 'Date': 'Mon, 28 Aug 2023 06:15:11 GMT', 'Content-Type': 'text/html; charset=UTF-8', 'Transfer-Encoding': 'chunked', 'Connection': 'keep-alive', 'Cache-Control': 'no-cache, no-store, must-revalidate', 'Pragma': 'no-cache', 'P3P': 'CP=\"CAO DSP CURa ADMa TAIa PSAa OUR LAW STP PHY ONL UNI PUR FIN COM NAV INT DEM STA PRE\"', 'X-Frame-Options': 'DENY', 'X-XSS-Protection': '1; mode=block', 'Content-Encoding': 'gzip', 'Strict-Transport-Security': 'max-age=63072000; includeSubdomains', 'Referrer-Policy': 'unsafe-url'}"
      ]
     },
     "execution_count": 10,
     "metadata": {},
     "output_type": "execute_result"
    }
   ],
   "source": [
    "## header 확인\n",
    "res.headers"
   ]
  },
  {
   "cell_type": "code",
   "execution_count": 12,
   "metadata": {},
   "outputs": [
    {
     "data": {
      "text/plain": [
       "'   <!doctype html> <html lang=\"ko\" class=\"fzoom\"> <head> <meta charset=\"utf-8\"> <meta name=\"Referrer\" content=\"origin\"> <meta http-equiv=\"X-UA-Compatible\" content=\"IE=edge\"> <meta name=\"viewport\" content=\"width=1190\"> <title>NAVER</title> <meta name=\"apple-mobile-web-app-title\" content=\"NAVER\"/> <meta name=\"robots\" content=\"index,nofollow\"/> <meta name=\"description\" content=\"네이버 메인에서 다양한 정보와 유용한 컨텐츠를 만나 보세요\"/> <meta property=\"og:title\" content=\"네이버\"> <meta property=\"og:url\" content=\"https://www.naver.com/\"> <meta property=\"og:image\" content=\"https://s.pstatic.net/static/www/mobile/edit/2016/0705/mobile_212852414260.png\"> <meta property=\"og:description\" content=\"네이버 메인에서 다양한 정보와 유용한 컨텐츠를 만나 보세요\"/> <meta name=\"twitter:card\" content=\"summary\"> <meta name=\"twitter:title\" content=\"\"> <meta name=\"twitter:url\" content=\"https://www.naver.com/\"> <meta name=\"twitter:image\" content=\"https://s.pstatic.net/static/www/mobile/edit/2016/0705/mobile_212852414260.png\"> <meta name=\"twitter:description\" c'"
      ]
     },
     "execution_count": 12,
     "metadata": {},
     "output_type": "execute_result"
    }
   ],
   "source": [
    "## body 확인\n",
    "res.text[:1000]"
   ]
  },
  {
   "cell_type": "markdown",
   "metadata": {},
   "source": [
    "정보 갱신, post"
   ]
  },
  {
   "cell_type": "markdown",
   "metadata": {},
   "source": [
    "https://webhook.site를 이용해 post 실습하기"
   ]
  },
  {
   "cell_type": "code",
   "execution_count": 21,
   "metadata": {},
   "outputs": [
    {
     "data": {
      "text/plain": [
       "200"
      ]
     },
     "execution_count": 21,
     "metadata": {},
     "output_type": "execute_result"
    }
   ],
   "source": [
    "payload = {'name':'hello',\n",
    "           'age':13}\n",
    "res = requests.post('https://webhook.site/69c1b5a9-1219-49dd-bea1-6b62a7c144d8',\n",
    "                        json=payload)\n",
    "# statues_code 확인\n",
    "res.status_code"
   ]
  },
  {
   "cell_type": "markdown",
   "metadata": {},
   "source": [
    "### 올바르게 HTTP 요청하기"
   ]
  },
  {
   "cell_type": "markdown",
   "metadata": {},
   "source": [
    "1. 웹 스크래핑, 웹 크롤링의 차이\n",
    "\n",
    "    - 웹 스크래핑: 웹 페이지들로부터 우리가 원하는 정보를 추출\n",
    "    - 웹 크롤링: 인덱싱에 초첨을 맞추며 크롤러를 이용\n",
    "    - 정리하면 스크래핑은 데이터 추출이며 크롤링은 url을 타고 다니며 데이터를 색인하는 것이 목적"
   ]
  },
  {
   "cell_type": "markdown",
   "metadata": {},
   "source": [
    "2. 올바른 HTTP의 요청\n",
    "    - 웹 크롤링의 목적은 무엇인가?\n",
    "    - 크롤링이 서버에 영향을 미치는가?"
   ]
  },
  {
   "cell_type": "markdown",
   "metadata": {},
   "source": [
    "3. 로봇 배제 프로토콜(REP)\n",
    "    - robot.txt를 통해 크롤링에 대한 규정을 정해놓음"
   ]
  },
  {
   "cell_type": "code",
   "execution_count": 27,
   "metadata": {},
   "outputs": [
    {
     "name": "stdout",
     "output_type": "stream",
     "text": [
      "User-agent: *\n",
      "Disallow: /\n",
      "Allow : /$ \n",
      "\n"
     ]
    }
   ],
   "source": [
    "## 나의 user-agent 확인\n",
    "'https://www.whatismybrowser.com/detect/what-is-my-user-agent/'\n",
    "\n",
    "## robots.txt 가져오기\n",
    "import requests\n",
    "res = requests.get('https://naver.com/robots.txt')\n",
    "print(res.text)"
   ]
  }
 ],
 "metadata": {
  "kernelspec": {
   "display_name": "conda",
   "language": "python",
   "name": "conda"
  },
  "language_info": {
   "codemirror_mode": {
    "name": "ipython",
    "version": 3
   },
   "file_extension": ".py",
   "mimetype": "text/x-python",
   "name": "python",
   "nbconvert_exporter": "python",
   "pygments_lexer": "ipython3",
   "version": "3.9.12"
  },
  "orig_nbformat": 4
 },
 "nbformat": 4,
 "nbformat_minor": 2
}
